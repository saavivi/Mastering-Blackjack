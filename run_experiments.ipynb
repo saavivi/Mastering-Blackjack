{
 "cells": [
  {
   "cell_type": "code",
   "execution_count": null,
   "metadata": {
    "collapsed": true
   },
   "outputs": [],
   "source": [
    "from agents.MonteCarloAgent import mc_run_experiments\n",
    "from agents.QLearningAgent import ql_run_experiments\n",
    "from agents.RandomAgent import ra_run_experiments\n",
    "from DRL.run_dqn import dqn_run_experiments\n",
    "\n",
    "\n",
    "if __name__ == \"__main__\":\n",
    "    ra_run_experiments()\n",
    "    mc_run_experiments()\n",
    "    ql_run_experiments()\n",
    "    dqn_run_experiments()\n"
   ]
  }
 ],
 "metadata": {
  "kernelspec": {
   "display_name": "Python 2",
   "language": "python",
   "name": "python2"
  },
  "language_info": {
   "codemirror_mode": {
    "name": "ipython",
    "version": 2
   },
   "file_extension": ".py",
   "mimetype": "text/x-python",
   "name": "python",
   "nbconvert_exporter": "python",
   "pygments_lexer": "ipython2",
   "version": "2.7.6"
  }
 },
 "nbformat": 4,
 "nbformat_minor": 0
}
